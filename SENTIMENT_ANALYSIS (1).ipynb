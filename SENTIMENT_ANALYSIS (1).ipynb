{
  "nbformat": 4,
  "nbformat_minor": 0,
  "metadata": {
    "colab": {
      "name": "SENTIMENT ANALYSIS.ipynb",
      "provenance": []
    },
    "kernelspec": {
      "name": "python3",
      "display_name": "Python 3"
    },
    "accelerator": "GPU"
  },
  "cells": [
    {
      "cell_type": "markdown",
      "metadata": {
        "id": "9NoNK-YisO3N",
        "colab_type": "text"
      },
      "source": [
        "# SENTIMENT ANALYSIS ON REVIEWS OF PASSENGERS ON US AIRLINES IN TWITTER "
      ]
    },
    {
      "cell_type": "markdown",
      "metadata": {
        "id": "pTnNzB0ks1jo",
        "colab_type": "text"
      },
      "source": [
        "\n",
        "\n",
        "This project on sentiment analysis aims at :-\n",
        "\n",
        "1.   Predicting the sentiment of a tweet based on the content in it\n",
        "2.   Show the diffenece in effectiveness of an ensemble,      discriminative and Generative learning algorithms in classifying large datasets using accuracy as a performance metric.\n",
        "\n",
        "\n",
        "\n",
        "\n",
        "\n",
        "\n"
      ]
    },
    {
      "cell_type": "code",
      "metadata": {
        "id": "bjW9O5DjKOX_",
        "colab_type": "code",
        "colab": {}
      },
      "source": [
        "\n",
        "import numpy as np\n",
        "import pandas as pd\n",
        "import matplotlib.pyplot as plt\n",
        "import seaborn as sns\n",
        "from sklearn.tree import DecisionTreeClassifier\n",
        "from sklearn.preprocessing import MinMaxScaler\n",
        "from sklearn.feature_extraction.text import CountVectorizer\n",
        "from sklearn.feature_extraction.text import TfidfVectorizer\n",
        "import re \n",
        "import nltk \n",
        "from nltk.corpus import stopwords\n",
        "from sklearn.model_selection import train_test_split\n",
        "from sklearn.ensemble import RandomForestClassifier\n",
        "from sklearn.metrics import classification_report, confusion_matrix, accuracy_score\n",
        "from sklearn.naive_bayes import MultinomialNB\n",
        "import tensorflow as tf\n",
        "from keras.layers import Flatten\n",
        "from tensorflow.keras.optimizers import SGD\n",
        "\n"
      ],
      "execution_count": 26,
      "outputs": []
    },
    {
      "cell_type": "code",
      "metadata": {
        "id": "QfSKOsSBOEWf",
        "colab_type": "code",
        "colab": {}
      },
      "source": [
        "reviews = pd.read_csv(\"https://raw.githubusercontent.com/kolaveridi/kaggle-Twitter-US-Airline-Sentiment-/master/Tweets.csv\")"
      ],
      "execution_count": 27,
      "outputs": []
    },
    {
      "cell_type": "code",
      "metadata": {
        "id": "KcomLHw5OLNE",
        "colab_type": "code",
        "colab": {
          "base_uri": "https://localhost:8080/",
          "height": 459
        },
        "outputId": "642006e9-edd4-4deb-c3bc-ad219c9ef5ec"
      },
      "source": [
        "print(reviews.shape)\n",
        "reviews.head()  "
      ],
      "execution_count": 28,
      "outputs": [
        {
          "output_type": "stream",
          "text": [
            "(14640, 15)\n"
          ],
          "name": "stdout"
        },
        {
          "output_type": "execute_result",
          "data": {
            "text/html": [
              "<div>\n",
              "<style scoped>\n",
              "    .dataframe tbody tr th:only-of-type {\n",
              "        vertical-align: middle;\n",
              "    }\n",
              "\n",
              "    .dataframe tbody tr th {\n",
              "        vertical-align: top;\n",
              "    }\n",
              "\n",
              "    .dataframe thead th {\n",
              "        text-align: right;\n",
              "    }\n",
              "</style>\n",
              "<table border=\"1\" class=\"dataframe\">\n",
              "  <thead>\n",
              "    <tr style=\"text-align: right;\">\n",
              "      <th></th>\n",
              "      <th>tweet_id</th>\n",
              "      <th>airline_sentiment</th>\n",
              "      <th>airline_sentiment_confidence</th>\n",
              "      <th>negativereason</th>\n",
              "      <th>negativereason_confidence</th>\n",
              "      <th>airline</th>\n",
              "      <th>airline_sentiment_gold</th>\n",
              "      <th>name</th>\n",
              "      <th>negativereason_gold</th>\n",
              "      <th>retweet_count</th>\n",
              "      <th>text</th>\n",
              "      <th>tweet_coord</th>\n",
              "      <th>tweet_created</th>\n",
              "      <th>tweet_location</th>\n",
              "      <th>user_timezone</th>\n",
              "    </tr>\n",
              "  </thead>\n",
              "  <tbody>\n",
              "    <tr>\n",
              "      <th>0</th>\n",
              "      <td>570306133677760513</td>\n",
              "      <td>neutral</td>\n",
              "      <td>1.0000</td>\n",
              "      <td>NaN</td>\n",
              "      <td>NaN</td>\n",
              "      <td>Virgin America</td>\n",
              "      <td>NaN</td>\n",
              "      <td>cairdin</td>\n",
              "      <td>NaN</td>\n",
              "      <td>0</td>\n",
              "      <td>@VirginAmerica What @dhepburn said.</td>\n",
              "      <td>NaN</td>\n",
              "      <td>2015-02-24 11:35:52 -0800</td>\n",
              "      <td>NaN</td>\n",
              "      <td>Eastern Time (US &amp; Canada)</td>\n",
              "    </tr>\n",
              "    <tr>\n",
              "      <th>1</th>\n",
              "      <td>570301130888122368</td>\n",
              "      <td>positive</td>\n",
              "      <td>0.3486</td>\n",
              "      <td>NaN</td>\n",
              "      <td>0.0000</td>\n",
              "      <td>Virgin America</td>\n",
              "      <td>NaN</td>\n",
              "      <td>jnardino</td>\n",
              "      <td>NaN</td>\n",
              "      <td>0</td>\n",
              "      <td>@VirginAmerica plus you've added commercials t...</td>\n",
              "      <td>NaN</td>\n",
              "      <td>2015-02-24 11:15:59 -0800</td>\n",
              "      <td>NaN</td>\n",
              "      <td>Pacific Time (US &amp; Canada)</td>\n",
              "    </tr>\n",
              "    <tr>\n",
              "      <th>2</th>\n",
              "      <td>570301083672813571</td>\n",
              "      <td>neutral</td>\n",
              "      <td>0.6837</td>\n",
              "      <td>NaN</td>\n",
              "      <td>NaN</td>\n",
              "      <td>Virgin America</td>\n",
              "      <td>NaN</td>\n",
              "      <td>yvonnalynn</td>\n",
              "      <td>NaN</td>\n",
              "      <td>0</td>\n",
              "      <td>@VirginAmerica I didn't today... Must mean I n...</td>\n",
              "      <td>NaN</td>\n",
              "      <td>2015-02-24 11:15:48 -0800</td>\n",
              "      <td>Lets Play</td>\n",
              "      <td>Central Time (US &amp; Canada)</td>\n",
              "    </tr>\n",
              "    <tr>\n",
              "      <th>3</th>\n",
              "      <td>570301031407624196</td>\n",
              "      <td>negative</td>\n",
              "      <td>1.0000</td>\n",
              "      <td>Bad Flight</td>\n",
              "      <td>0.7033</td>\n",
              "      <td>Virgin America</td>\n",
              "      <td>NaN</td>\n",
              "      <td>jnardino</td>\n",
              "      <td>NaN</td>\n",
              "      <td>0</td>\n",
              "      <td>@VirginAmerica it's really aggressive to blast...</td>\n",
              "      <td>NaN</td>\n",
              "      <td>2015-02-24 11:15:36 -0800</td>\n",
              "      <td>NaN</td>\n",
              "      <td>Pacific Time (US &amp; Canada)</td>\n",
              "    </tr>\n",
              "    <tr>\n",
              "      <th>4</th>\n",
              "      <td>570300817074462722</td>\n",
              "      <td>negative</td>\n",
              "      <td>1.0000</td>\n",
              "      <td>Can't Tell</td>\n",
              "      <td>1.0000</td>\n",
              "      <td>Virgin America</td>\n",
              "      <td>NaN</td>\n",
              "      <td>jnardino</td>\n",
              "      <td>NaN</td>\n",
              "      <td>0</td>\n",
              "      <td>@VirginAmerica and it's a really big bad thing...</td>\n",
              "      <td>NaN</td>\n",
              "      <td>2015-02-24 11:14:45 -0800</td>\n",
              "      <td>NaN</td>\n",
              "      <td>Pacific Time (US &amp; Canada)</td>\n",
              "    </tr>\n",
              "  </tbody>\n",
              "</table>\n",
              "</div>"
            ],
            "text/plain": [
              "             tweet_id  ...               user_timezone\n",
              "0  570306133677760513  ...  Eastern Time (US & Canada)\n",
              "1  570301130888122368  ...  Pacific Time (US & Canada)\n",
              "2  570301083672813571  ...  Central Time (US & Canada)\n",
              "3  570301031407624196  ...  Pacific Time (US & Canada)\n",
              "4  570300817074462722  ...  Pacific Time (US & Canada)\n",
              "\n",
              "[5 rows x 15 columns]"
            ]
          },
          "metadata": {
            "tags": []
          },
          "execution_count": 28
        }
      ]
    },
    {
      "cell_type": "markdown",
      "metadata": {
        "id": "DzwBBsFzQBFO",
        "colab_type": "text"
      },
      "source": [
        "# About the Dataset\n",
        "\n",
        "\n",
        "> Dataframe **\"reviews\"** contains 14640 different sentimental tweets for various different US airline companies, based on the experiences of the passengers. The dataset contains 15 different features, out of which, we will be working on the **reviews[\"text\"]** to predict the sentiment, or the **reviews[\"airline_sentiment\"]**\n",
        "\n",
        "\n"
      ]
    },
    {
      "cell_type": "markdown",
      "metadata": {
        "id": "pCrR-dPxbxp9",
        "colab_type": "text"
      },
      "source": [
        "# PREPROCESSING THE DATASET"
      ]
    },
    {
      "cell_type": "code",
      "metadata": {
        "id": "yEzjKC7uQgfn",
        "colab_type": "code",
        "colab": {}
      },
      "source": [
        "# Extracting out the features and labels:-\n",
        "\n",
        "features = reviews.iloc[:, 10].values     \n",
        "labels = reviews[\"airline_sentiment\"].values "
      ],
      "execution_count": 29,
      "outputs": []
    },
    {
      "cell_type": "code",
      "metadata": {
        "id": "SKOKnA9QRBuc",
        "colab_type": "code",
        "colab": {
          "base_uri": "https://localhost:8080/",
          "height": 298
        },
        "outputId": "586baa9a-56a3-4105-e3f6-4b8807e731d1"
      },
      "source": [
        "# Plotting the categorical variable counts in the labels \n",
        "\n",
        "sns.countplot(reviews.airline_sentiment)"
      ],
      "execution_count": 30,
      "outputs": [
        {
          "output_type": "execute_result",
          "data": {
            "text/plain": [
              "<matplotlib.axes._subplots.AxesSubplot at 0x7f5a6033af28>"
            ]
          },
          "metadata": {
            "tags": []
          },
          "execution_count": 30
        },
        {
          "output_type": "display_data",
          "data": {
            "image/png": "[encoded data removed]",
            "text/plain": [
              "<Figure size 432x288 with 1 Axes>"
            ]
          },
          "metadata": {
            "tags": [],
            "needs_background": "light"
          }
        }
      ]
    },
    {
      "cell_type": "code",
      "metadata": {
        "id": "5q7f9sZ0RMUk",
        "colab_type": "code",
        "colab": {
          "base_uri": "https://localhost:8080/",
          "height": 35
        },
        "outputId": "fa454a18-ca4a-41fa-b714-aacbde053a7d"
      },
      "source": [
        "reviews[\"airline_sentiment\"].isna().sum()   # Checking for NAN values to either be imputed or dropped \n",
        "reviews[\"text\"].isna().sum()"
      ],
      "execution_count": 31,
      "outputs": [
        {
          "output_type": "execute_result",
          "data": {
            "text/plain": [
              "0"
            ]
          },
          "metadata": {
            "tags": []
          },
          "execution_count": 31
        }
      ]
    },
    {
      "cell_type": "markdown",
      "metadata": {
        "id": "qZS-Nk85RqNq",
        "colab_type": "text"
      },
      "source": [
        "Since there are 3 different classes (Multiclass) possible for the sentiments, we will be using the Multinomial naive bayes in the **Generative classifier** where as, softmax classifier as **Discriminative classifier**"
      ]
    },
    {
      "cell_type": "code",
      "metadata": {
        "id": "yJpkNOAbReLv",
        "colab_type": "code",
        "colab": {
          "base_uri": "https://localhost:8080/",
          "height": 266
        },
        "outputId": "2ffbe811-f4f4-412e-ffe7-5b2f5929230f"
      },
      "source": [
        "\"\"\" We will first need to convert the categorical \n",
        "    variables to numerical values to be able to fit\n",
        "    the Softmax classifier \"\"\"\n",
        "\n",
        "\"\"\" We will thus define a new Series in the reviews df\n",
        "    containing the numerical values and assign is as \n",
        "    label for the softmax calssifier\"\"\"\n",
        "L = []\n",
        "for j in range(14640):\n",
        "  L.append(0)\n",
        "reviews[\"airline_sentiment_categorical\"] = L\n",
        "\n",
        "for i in range(14640):\n",
        "  if reviews[\"airline_sentiment\"][i] == \"neutral\":\n",
        "    reviews[\"airline_sentiment_categorical\"][i] = 0.0\n",
        "  elif reviews[\"airline_sentiment\"][i] == \"positive\":\n",
        "    reviews[\"airline_sentiment_categorical\"][i] = 1.0\n",
        "  elif reviews[\"airline_sentiment\"][i] == \"negative\":\n",
        "    reviews[\"airline_sentiment_categorical\"][i] = 2.0\n",
        "print(reviews[\"airline_sentiment_categorical\"].shape)"
      ],
      "execution_count": 32,
      "outputs": [
        {
          "output_type": "stream",
          "text": [
            "/usr/local/lib/python3.6/dist-packages/ipykernel_launcher.py:15: SettingWithCopyWarning: \n",
            "A value is trying to be set on a copy of a slice from a DataFrame\n",
            "\n",
            "See the caveats in the documentation: https://pandas.pydata.org/pandas-docs/stable/user_guide/indexing.html#returning-a-view-versus-a-copy\n",
            "  from ipykernel import kernelapp as app\n",
            "/usr/local/lib/python3.6/dist-packages/ipykernel_launcher.py:17: SettingWithCopyWarning: \n",
            "A value is trying to be set on a copy of a slice from a DataFrame\n",
            "\n",
            "See the caveats in the documentation: https://pandas.pydata.org/pandas-docs/stable/user_guide/indexing.html#returning-a-view-versus-a-copy\n",
            "/usr/local/lib/python3.6/dist-packages/ipykernel_launcher.py:19: SettingWithCopyWarning: \n",
            "A value is trying to be set on a copy of a slice from a DataFrame\n",
            "\n",
            "See the caveats in the documentation: https://pandas.pydata.org/pandas-docs/stable/user_guide/indexing.html#returning-a-view-versus-a-copy\n"
          ],
          "name": "stderr"
        },
        {
          "output_type": "stream",
          "text": [
            "(14640,)\n"
          ],
          "name": "stdout"
        }
      ]
    },
    {
      "cell_type": "code",
      "metadata": {
        "id": "rD2KcWTkTmsr",
        "colab_type": "code",
        "colab": {
          "base_uri": "https://localhost:8080/",
          "height": 248
        },
        "outputId": "6b080ed8-58cd-4f1a-f2dc-c57642370d83"
      },
      "source": [
        "print(reviews[\"airline_sentiment_categorical\"].shape)\n",
        "print(reviews[\"airline_sentiment_categorical\"])\n"
      ],
      "execution_count": 33,
      "outputs": [
        {
          "output_type": "stream",
          "text": [
            "(14640,)\n",
            "0        0\n",
            "1        1\n",
            "2        0\n",
            "3        2\n",
            "4        2\n",
            "        ..\n",
            "14635    1\n",
            "14636    2\n",
            "14637    0\n",
            "14638    2\n",
            "14639    0\n",
            "Name: airline_sentiment_categorical, Length: 14640, dtype: int64\n"
          ],
          "name": "stdout"
        }
      ]
    },
    {
      "cell_type": "code",
      "metadata": {
        "id": "txD49Q95UjOl",
        "colab_type": "code",
        "colab": {}
      },
      "source": [
        "labels_sf = reviews[\"airline_sentiment_categorical\"].values"
      ],
      "execution_count": 34,
      "outputs": []
    },
    {
      "cell_type": "code",
      "metadata": {
        "id": "ksUiEYUTU7TQ",
        "colab_type": "code",
        "colab": {}
      },
      "source": [
        "\"\"\" Preporecessing the features using re library\n",
        "    such as removing special charecters, making\n",
        "    them lower case etc. \"\"\"\n",
        "\n",
        "processed_features = []\n",
        "\n",
        "for sentence in range(0, len(features)):\n",
        "    # Remove all the special characters\n",
        "    processed_feature = re.sub(r'\\W', ' ', str(features[sentence]))\n",
        "\n",
        "    # remove all single characters\n",
        "    processed_feature= re.sub(r'\\s+[a-zA-Z]\\s+', ' ', processed_feature)\n",
        "\n",
        "    # Remove single characters from the start\n",
        "    processed_feature = re.sub(r'\\^[a-zA-Z]\\s+', ' ', processed_feature) \n",
        "\n",
        "    # Substituting multiple spaces with single space\n",
        "    processed_feature = re.sub(r'\\s+', ' ', processed_feature, flags=re.I)\n",
        "\n",
        "    # Removing prefixed 'b'\n",
        "    processed_feature = re.sub(r'^b\\s+', '', processed_feature)\n",
        "\n",
        "    # Converting to Lowercase\n",
        "    processed_feature = processed_feature.lower()\n",
        "\n",
        "    processed_features.append(processed_feature)"
      ],
      "execution_count": 35,
      "outputs": []
    },
    {
      "cell_type": "code",
      "metadata": {
        "id": "S1rnyPtNV8n9",
        "colab_type": "code",
        "colab": {}
      },
      "source": [
        "\"\"\" Initiating the tfidf vecorizer and creating a \n",
        "    document-term matrix. Common words aof enlish \n",
        "    eg. and, the are excluded\"\"\"\n",
        "\n",
        "from sklearn.feature_extraction.text import TfidfVectorizer\n",
        "\n",
        "vectorizer = TfidfVectorizer (max_features=2500, min_df=7, max_df=0.8, stop_words = 'english')\n",
        "processed_features = vectorizer.fit_transform(processed_features).toarray()"
      ],
      "execution_count": 36,
      "outputs": []
    },
    {
      "cell_type": "code",
      "metadata": {
        "id": "WaWQHr4HWJaA",
        "colab_type": "code",
        "colab": {
          "base_uri": "https://localhost:8080/",
          "height": 35
        },
        "outputId": "701fac22-9760-4ff0-8063-5230ac9058a3"
      },
      "source": [
        "print(processed_features.shape)"
      ],
      "execution_count": 37,
      "outputs": [
        {
          "output_type": "stream",
          "text": [
            "(14640, 2195)\n"
          ],
          "name": "stdout"
        }
      ]
    },
    {
      "cell_type": "code",
      "metadata": {
        "id": "fdPxYg4TWM3u",
        "colab_type": "code",
        "colab": {}
      },
      "source": [
        "#  X_train, y_train...  are to be used in Randomforest classifier and multinomial naive bayes\n",
        "X_train, X_test, y_train, y_test = train_test_split(processed_features, labels, test_size=0.2, random_state=0)   \n",
        "\n",
        "#  X_train_sf, y_train_sf...  are to be used in Softmax classifier\n",
        "X_train_sf, X_test_sf, y_train_sf, y_test_sf = train_test_split(processed_features, labels_sf, test_size=0.2, random_state=0)\n",
        "\n",
        "#  Random state are kept the same on purpose"
      ],
      "execution_count": 38,
      "outputs": []
    },
    {
      "cell_type": "markdown",
      "metadata": {
        "id": "wSrrfnhBYz0C",
        "colab_type": "text"
      },
      "source": [
        "# RANDOM FOREST CLASSIFIER (ENSEMBLE LEARNING)\n",
        "\n",
        "1.   List item\n",
        "2.   List item\n",
        "\n"
      ]
    },
    {
      "cell_type": "code",
      "metadata": {
        "id": "yEuKqX-rXY_C",
        "colab_type": "code",
        "colab": {
          "base_uri": "https://localhost:8080/",
          "height": 159
        },
        "outputId": "43ed992d-2c4d-4904-a7d3-5005491d3ab5"
      },
      "source": [
        "\"\"\" Creating a deep Random forest calssifier \n",
        "    with 3 cases, i.e. 150, 175 and 200 total number\n",
        "    of tress and fitting it to the dataset, to find \n",
        "    the optimal number of trees, to best fit the data\"\"\"\n",
        "\n",
        "RF_classifier_1 = RandomForestClassifier(n_estimators=150, random_state=0)\n",
        "RF_classifier_1.fit(X_train, y_train)\n",
        "\n",
        "RF_classifier_2 = RandomForestClassifier(n_estimators=175, random_state=0)\n",
        "RF_classifier_2.fit(X_train, y_train)\n",
        "\n",
        "RF_classifier_3 = RandomForestClassifier(n_estimators=200, random_state=0)\n",
        "RF_classifier_3.fit(X_train, y_train)\n"
      ],
      "execution_count": 39,
      "outputs": [
        {
          "output_type": "execute_result",
          "data": {
            "text/plain": [
              "RandomForestClassifier(bootstrap=True, ccp_alpha=0.0, class_weight=None,\n",
              "                       criterion='gini', max_depth=None, max_features='auto',\n",
              "                       max_leaf_nodes=None, max_samples=None,\n",
              "                       min_impurity_decrease=0.0, min_impurity_split=None,\n",
              "                       min_samples_leaf=1, min_samples_split=2,\n",
              "                       min_weight_fraction_leaf=0.0, n_estimators=200,\n",
              "                       n_jobs=None, oob_score=False, random_state=0, verbose=0,\n",
              "                       warm_start=False)"
            ]
          },
          "metadata": {
            "tags": []
          },
          "execution_count": 39
        }
      ]
    },
    {
      "cell_type": "code",
      "metadata": {
        "id": "R2luFsgKYKPI",
        "colab_type": "code",
        "colab": {
          "base_uri": "https://localhost:8080/",
          "height": 70
        },
        "outputId": "b3c245c0-134c-450b-d8f2-3dc4dc313b80"
      },
      "source": [
        "RF_predictions_1 = RF_classifier_1.predict(X_test)\n",
        "RF_predictions_2 = RF_classifier_2.predict(X_test)\n",
        "RF_predictions_3 = RF_classifier_3.predict(X_test)\n",
        "\n",
        "# Printing out the performance metrics of Random forest classifier\n",
        "# from sklearn.metrics import classification_report, confusion_matrix, accuracy_score\n",
        "# print(confusion_matrix(y_test,RF_predictions))\n",
        "# print(classification_report(y_test,RF_predictions))\n",
        "print(accuracy_score(y_test, RF_predictions_1))\n",
        "print(accuracy_score(y_test, RF_predictions_2))\n",
        "print(accuracy_score(y_test, RF_predictions_3))"
      ],
      "execution_count": 40,
      "outputs": [
        {
          "output_type": "stream",
          "text": [
            "0.7517076502732241\n",
            "0.7547814207650273\n",
            "0.7534153005464481\n"
          ],
          "name": "stdout"
        }
      ]
    },
    {
      "cell_type": "markdown",
      "metadata": {
        "id": "HftLeSDxb7-8",
        "colab_type": "text"
      },
      "source": [
        "\n",
        "Since we achieved the best accuracy of **0.7547** on a 175 decision trees **Random Forest Classifier**, we will go along with that \n"
      ]
    },
    {
      "cell_type": "markdown",
      "metadata": {
        "id": "nwv3BJRSZHfr",
        "colab_type": "text"
      },
      "source": [
        "# MULTINOMIAL NAVIE BAYES CLASSIFIER (GENERATIVE LEARNING)"
      ]
    },
    {
      "cell_type": "code",
      "metadata": {
        "id": "3BT8-YVdYxBl",
        "colab_type": "code",
        "colab": {}
      },
      "source": [
        "model = MultinomialNB().fit(X_train, y_train)"
      ],
      "execution_count": 41,
      "outputs": []
    },
    {
      "cell_type": "code",
      "metadata": {
        "id": "SAaGj2gQaCfy",
        "colab_type": "code",
        "colab": {
          "base_uri": "https://localhost:8080/",
          "height": 266
        },
        "outputId": "8a8199df-b80f-4635-9e18-5a727cadee57"
      },
      "source": [
        "MNB_predictions = model.predict(X_test)\n",
        "print(\"Confusion matrix:\", confusion_matrix(y_test, MNB_predictions))\n",
        "print(\"Classification Report:\", classification_report(y_test,MNB_predictions))\n",
        "print(\"Accuracy:\", accuracy_score(y_test ,MNB_predictions))"
      ],
      "execution_count": 42,
      "outputs": [
        {
          "output_type": "stream",
          "text": [
            "Confusion matrix: [[1814   45   11]\n",
            " [ 395  194   25]\n",
            " [ 210   37  197]]\n",
            "Classification Report:               precision    recall  f1-score   support\n",
            "\n",
            "    negative       0.75      0.97      0.85      1870\n",
            "     neutral       0.70      0.32      0.44       614\n",
            "    positive       0.85      0.44      0.58       444\n",
            "\n",
            "    accuracy                           0.75      2928\n",
            "   macro avg       0.77      0.58      0.62      2928\n",
            "weighted avg       0.75      0.75      0.72      2928\n",
            "\n",
            "Accuracy: 0.7530737704918032\n"
          ],
          "name": "stdout"
        }
      ]
    },
    {
      "cell_type": "markdown",
      "metadata": {
        "id": "ABiDebFSbs3p",
        "colab_type": "text"
      },
      "source": [
        "\n",
        "We achieved an accuracy of **0.7530** (*slightly lower than Randomforest classifier*) on the Generative classifier **Multinomial Naive Bayes**"
      ]
    },
    {
      "cell_type": "markdown",
      "metadata": {
        "id": "vhm4LtWZdLnH",
        "colab_type": "text"
      },
      "source": [
        "# SOFTMAX CLASSIFIER (DISCRIMINATIVE LEARNING)"
      ]
    },
    {
      "cell_type": "code",
      "metadata": {
        "id": "vxKnMSGwbC6K",
        "colab_type": "code",
        "colab": {}
      },
      "source": [
        "\"\"\" Building a Softmax classifier using the \n",
        "    keras API from the TensorFlow library\"\"\"\n",
        "\n",
        "# We will use the Sequential class to build a single layer Softmax classifier\n",
        "\n",
        "model = tf.keras.models.Sequential()\n",
        "model.add(tf.keras.layers.Dense(3, kernel_regularizer=tf.keras.regularizers.l1(0.00001), activation = \"softmax\"))\n"
      ],
      "execution_count": 43,
      "outputs": []
    },
    {
      "cell_type": "code",
      "metadata": {
        "id": "-H_jzXaUfGRZ",
        "colab_type": "code",
        "colab": {}
      },
      "source": [
        "#  Compiling the model using the SGD optimizer\n",
        "    \n",
        "\"\"\" Since we havent converted the lables_sf to \n",
        "    one hot lables, we will be using the Spase\n",
        "    Categorical Cross entropy as the loss function\"\"\"\n",
        "\n",
        "model.compile(optimizer = SGD(learning_rate = 0.01), loss = tf.keras.losses.SparseCategoricalCrossentropy(), metrics=['accuracy'])"
      ],
      "execution_count": 44,
      "outputs": []
    },
    {
      "cell_type": "code",
      "metadata": {
        "id": "v16rk6xOf7r7",
        "colab_type": "code",
        "colab": {
          "base_uri": "https://localhost:8080/",
          "height": 924
        },
        "outputId": "a8166beb-8661-4874-f43c-73eb34e35ada"
      },
      "source": [
        "# Training the model to 20 epochs, using batch_size = 1 for BGD\n",
        "EPOCHS = 25\n",
        "model.fit(X_train_sf, y_train_sf, epochs = EPOCHS, batch_size = 1) "
      ],
      "execution_count": 45,
      "outputs": [
        {
          "output_type": "stream",
          "text": [
            "Epoch 1/25\n",
            "11712/11712 [==============================] - 24s 2ms/step - loss: 0.8669 - accuracy: 0.6286\n",
            "Epoch 2/25\n",
            "11712/11712 [==============================] - 24s 2ms/step - loss: 0.7820 - accuracy: 0.6569\n",
            "Epoch 3/25\n",
            "11712/11712 [==============================] - 26s 2ms/step - loss: 0.7339 - accuracy: 0.6799\n",
            "Epoch 4/25\n",
            "11712/11712 [==============================] - 24s 2ms/step - loss: 0.7023 - accuracy: 0.6989\n",
            "Epoch 5/25\n",
            "11712/11712 [==============================] - 24s 2ms/step - loss: 0.6786 - accuracy: 0.7133\n",
            "Epoch 6/25\n",
            "11712/11712 [==============================] - 24s 2ms/step - loss: 0.6599 - accuracy: 0.7244\n",
            "Epoch 7/25\n",
            "11712/11712 [==============================] - 25s 2ms/step - loss: 0.6443 - accuracy: 0.7345\n",
            "Epoch 8/25\n",
            "11712/11712 [==============================] - 24s 2ms/step - loss: 0.6316 - accuracy: 0.7421\n",
            "Epoch 9/25\n",
            "11712/11712 [==============================] - 24s 2ms/step - loss: 0.6206 - accuracy: 0.7487\n",
            "Epoch 10/25\n",
            "11712/11712 [==============================] - 24s 2ms/step - loss: 0.6108 - accuracy: 0.7533\n",
            "Epoch 11/25\n",
            "11712/11712 [==============================] - 24s 2ms/step - loss: 0.6021 - accuracy: 0.7588\n",
            "Epoch 12/25\n",
            "11712/11712 [==============================] - 24s 2ms/step - loss: 0.5939 - accuracy: 0.7625\n",
            "Epoch 13/25\n",
            "11712/11712 [==============================] - 24s 2ms/step - loss: 0.5866 - accuracy: 0.7670\n",
            "Epoch 14/25\n",
            "11712/11712 [==============================] - 24s 2ms/step - loss: 0.5804 - accuracy: 0.7700\n",
            "Epoch 15/25\n",
            "11712/11712 [==============================] - 24s 2ms/step - loss: 0.5745 - accuracy: 0.7741\n",
            "Epoch 16/25\n",
            "11712/11712 [==============================] - 26s 2ms/step - loss: 0.5694 - accuracy: 0.7762\n",
            "Epoch 17/25\n",
            "11712/11712 [==============================] - 24s 2ms/step - loss: 0.5642 - accuracy: 0.7778\n",
            "Epoch 18/25\n",
            "11712/11712 [==============================] - 24s 2ms/step - loss: 0.5599 - accuracy: 0.7820\n",
            "Epoch 19/25\n",
            "11712/11712 [==============================] - 24s 2ms/step - loss: 0.5550 - accuracy: 0.7849\n",
            "Epoch 20/25\n",
            "11712/11712 [==============================] - 25s 2ms/step - loss: 0.5512 - accuracy: 0.7836\n",
            "Epoch 21/25\n",
            "11712/11712 [==============================] - 24s 2ms/step - loss: 0.5474 - accuracy: 0.7884\n",
            "Epoch 22/25\n",
            "11712/11712 [==============================] - 24s 2ms/step - loss: 0.5437 - accuracy: 0.7890\n",
            "Epoch 23/25\n",
            "11712/11712 [==============================] - 24s 2ms/step - loss: 0.5402 - accuracy: 0.7914\n",
            "Epoch 24/25\n",
            "11712/11712 [==============================] - 24s 2ms/step - loss: 0.5372 - accuracy: 0.7943\n",
            "Epoch 25/25\n",
            "11712/11712 [==============================] - 24s 2ms/step - loss: 0.5339 - accuracy: 0.7947\n"
          ],
          "name": "stdout"
        },
        {
          "output_type": "execute_result",
          "data": {
            "text/plain": [
              "<tensorflow.python.keras.callbacks.History at 0x7f5a65d6fdd8>"
            ]
          },
          "metadata": {
            "tags": []
          },
          "execution_count": 45
        }
      ]
    },
    {
      "cell_type": "code",
      "metadata": {
        "id": "CWyc9MnIN0cH",
        "colab_type": "code",
        "colab": {
          "base_uri": "https://localhost:8080/",
          "height": 106
        },
        "outputId": "d73cec27-e941-4c1d-c8f0-a35b0f5288bf"
      },
      "source": [
        "model.fit(X_train_sf, y_train_sf, epochs = 2, batch_size = 1) #Training the model for 2 more Epochs"
      ],
      "execution_count": 47,
      "outputs": [
        {
          "output_type": "stream",
          "text": [
            "Epoch 1/2\n",
            "11712/11712 [==============================] - 25s 2ms/step - loss: 0.5313 - accuracy: 0.7970\n",
            "Epoch 2/2\n",
            "11712/11712 [==============================] - 26s 2ms/step - loss: 0.5286 - accuracy: 0.7984\n"
          ],
          "name": "stdout"
        },
        {
          "output_type": "execute_result",
          "data": {
            "text/plain": [
              "<tensorflow.python.keras.callbacks.History at 0x7f5a08aef7b8>"
            ]
          },
          "metadata": {
            "tags": []
          },
          "execution_count": 47
        }
      ]
    },
    {
      "cell_type": "code",
      "metadata": {
        "id": "OnGcb5buxoYp",
        "colab_type": "code",
        "colab": {
          "base_uri": "https://localhost:8080/",
          "height": 52
        },
        "outputId": "951ef8ac-8e5d-478c-9b3e-9f9758dfa03b"
      },
      "source": [
        "score = model.evaluate(X_test_sf, y_test_sf, verbose = 0) \n",
        "print('Test loss:', score[0]) \n",
        "print('Test accuracy:', score[1])"
      ],
      "execution_count": 48,
      "outputs": [
        {
          "output_type": "stream",
          "text": [
            "Test loss: 0.5886461138725281\n",
            "Test accuracy: 0.7684426307678223\n"
          ],
          "name": "stdout"
        }
      ]
    },
    {
      "cell_type": "markdown",
      "metadata": {
        "id": "w2lL2Sn6uhGd",
        "colab_type": "text"
      },
      "source": [
        "We achieved an accuracy of **0.768** (* higher than Random forest or Multinomial naive bayes*) on the Discriminative classifier        Softmax Classifier"
      ]
    },
    {
      "cell_type": "markdown",
      "metadata": {
        "id": "pIYdx4vmsIAf",
        "colab_type": "text"
      },
      "source": [
        "**HENCE, DISCRIMINATIVE LEARNING INDEEED PERFOMS BETTER ON LARGE DATASETS, SINCE THERE IS LESSSER ASSUMPTIONS ON THE DISTRIBUTION OF THE DATASET THEN IN GENERATIVE LEARNING ALOGITHMS**"
      ]
    }
  ]
}